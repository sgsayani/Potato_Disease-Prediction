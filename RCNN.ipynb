{
 "cells": [
  {
   "cell_type": "code",
   "execution_count": 21,
   "metadata": {},
   "outputs": [],
   "source": [
    "import os, sys, random\n",
    "import xml.etree.ElementTree as ET\n",
    "import mxnet as mx\n",
    "import cv2\n",
    "from matplotlib import pyplot as plt\n",
    "import numpy as np\n",
    "import os\n",
    "import pandas as pd\n",
    "import random\n",
    "from skimage import io\n",
    "from shutil import copyfile\n",
    "import sys\n",
    "import time\n",
    "from glob import glob\n",
    "import tensorflow as tf\n",
    "from tensorflow.keras.preprocessing.image import load_img, img_to_array\n",
    "from imgaug.augmentables.bbs import BoundingBox,BoundingBoxesOnImage\n",
    "\n"
   ]
  },
  {
   "cell_type": "code",
   "execution_count": null,
   "metadata": {},
   "outputs": [],
   "source": [
    "\"\"\"\n",
    "img_dir='./Agumented_img/augmented-image/backkleg/'\n",
    "for img in os.listdir(img_dir):\n",
    "    img_array= cv2.imread(os.path.join(img_dir,img),cv2.IMREAD_GRAYSCALE)\n",
    "    img_array=(img_array.flatten())\n",
    "    img_array=img_array.reshape(-1,1).T\n",
    "    print(img_array)\n",
    "    with open('output.CSV','ab') as f:\n",
    "        np.savetxt(f,img_array,delimiter=\",\")\"\"\""
   ]
  },
  {
   "cell_type": "code",
   "execution_count": 22,
   "metadata": {},
   "outputs": [
    {
     "name": "stdout",
     "output_type": "stream",
     "text": [
      "['/septoria', '/safe', '/backkleg', '/early-blight', '/late-blight']\n",
      "1608\n"
     ]
    }
   ],
   "source": [
    "path=\"./Agumented_img/augmented-image/\"\n",
    "l=glob(path+\"*\") #list akare nay glob\n",
    "s=len(glob(path+\"*\"))\n",
    "extract=[] #empty list\n",
    "name_items=[]\n",
    "for i in l: #nam nite chai \n",
    "    name_items.append(i[31:])\n",
    "print(name_items)\n",
    "\n",
    "flat_data_arr=[] #input array\n",
    "target_arr=[] #output array\n",
    "for j in name_items:\n",
    "    m=glob(\"./\"+path+j+\"/*\")\n",
    "    for h in m:\n",
    "        s = cv2.imread(h, cv2.IMREAD_COLOR)       \n",
    "        s = cv2.resize(s, (100,100))\n",
    "        s= cv2.cvtColor(s, cv2.COLOR_RGB2BGR)\n",
    "        s= np.array(s)\n",
    "        s= s.reshape(-1,100,100,3)\n",
    "        extract.append([np.array(s),j])\n",
    "print(len(extract))\n",
    "ex=extract \n"
   ]
  },
  {
   "cell_type": "code",
   "execution_count": 23,
   "metadata": {},
   "outputs": [
    {
     "name": "stdout",
     "output_type": "stream",
     "text": [
      "                                                      0             1\n",
      "0     [[[[0 0 0], [0 0 0], [0 0 0], [0 0 0], [0 0 0]...     /septoria\n",
      "1     [[[[0 0 0], [0 0 0], [0 0 0], [0 0 0], [0 0 0]...     /septoria\n",
      "2     [[[[0 0 0], [0 0 0], [0 0 0], [0 0 0], [0 0 0]...     /septoria\n",
      "3     [[[[0 0 0], [0 0 0], [0 0 0], [0 0 0], [0 0 0]...     /septoria\n",
      "4     [[[[0 0 0], [0 0 0], [0 0 0], [0 0 0], [0 0 0]...     /septoria\n",
      "...                                                 ...           ...\n",
      "1603  [[[[176 149 138], [191 163 157], [202 173 175]...  /late-blight\n",
      "1604  [[[[42 71 22], [ 77 120  56], [ 89 133  59], [...  /late-blight\n",
      "1605  [[[[98  0  0], [103  16   9], [101  25   2], [...  /late-blight\n",
      "1606  [[[[ 99 128 110], [ 98 126 104], [103 133 107]...  /late-blight\n",
      "1607  [[[[ 79 114  81], [ 71 113  64], [ 67 110  54]...  /late-blight\n",
      "\n",
      "[1608 rows x 2 columns]\n"
     ]
    }
   ],
   "source": [
    "df = pd.DataFrame(ex)\n",
    "print(df)"
   ]
  },
  {
   "cell_type": "code",
   "execution_count": 20,
   "metadata": {},
   "outputs": [],
   "source": [
    "df.to_csv('file1.csv')"
   ]
  },
  {
   "cell_type": "code",
   "execution_count": 24,
   "metadata": {},
   "outputs": [
    {
     "name": "stdout",
     "output_type": "stream",
     "text": [
      "records present for training :  (1608, 3)\n"
     ]
    },
    {
     "data": {
      "text/html": [
       "<div>\n",
       "<style scoped>\n",
       "    .dataframe tbody tr th:only-of-type {\n",
       "        vertical-align: middle;\n",
       "    }\n",
       "\n",
       "    .dataframe tbody tr th {\n",
       "        vertical-align: top;\n",
       "    }\n",
       "\n",
       "    .dataframe thead th {\n",
       "        text-align: right;\n",
       "    }\n",
       "</style>\n",
       "<table border=\"1\" class=\"dataframe\">\n",
       "  <thead>\n",
       "    <tr style=\"text-align: right;\">\n",
       "      <th></th>\n",
       "      <th>Unnamed: 0</th>\n",
       "      <th>0</th>\n",
       "      <th>1</th>\n",
       "    </tr>\n",
       "  </thead>\n",
       "  <tbody>\n",
       "    <tr>\n",
       "      <th>0</th>\n",
       "      <td>0</td>\n",
       "      <td>[[[[  0   0   0]\\n   [  0   0   0]\\n   [  0   ...</td>\n",
       "      <td>/septoria</td>\n",
       "    </tr>\n",
       "    <tr>\n",
       "      <th>1</th>\n",
       "      <td>1</td>\n",
       "      <td>[[[[  0   0   0]\\n   [  0   0   0]\\n   [  0   ...</td>\n",
       "      <td>/septoria</td>\n",
       "    </tr>\n",
       "    <tr>\n",
       "      <th>2</th>\n",
       "      <td>2</td>\n",
       "      <td>[[[[  0   0   0]\\n   [  0   0   0]\\n   [  0   ...</td>\n",
       "      <td>/septoria</td>\n",
       "    </tr>\n",
       "    <tr>\n",
       "      <th>3</th>\n",
       "      <td>3</td>\n",
       "      <td>[[[[  0   0   0]\\n   [  0   0   0]\\n   [  0   ...</td>\n",
       "      <td>/septoria</td>\n",
       "    </tr>\n",
       "    <tr>\n",
       "      <th>4</th>\n",
       "      <td>4</td>\n",
       "      <td>[[[[  0   0   0]\\n   [  0   0   0]\\n   [  0   ...</td>\n",
       "      <td>/septoria</td>\n",
       "    </tr>\n",
       "  </tbody>\n",
       "</table>\n",
       "</div>"
      ],
      "text/plain": [
       "   Unnamed: 0                                                  0          1\n",
       "0           0  [[[[  0   0   0]\\n   [  0   0   0]\\n   [  0   ...  /septoria\n",
       "1           1  [[[[  0   0   0]\\n   [  0   0   0]\\n   [  0   ...  /septoria\n",
       "2           2  [[[[  0   0   0]\\n   [  0   0   0]\\n   [  0   ...  /septoria\n",
       "3           3  [[[[  0   0   0]\\n   [  0   0   0]\\n   [  0   ...  /septoria\n",
       "4           4  [[[[  0   0   0]\\n   [  0   0   0]\\n   [  0   ...  /septoria"
      ]
     },
     "execution_count": 24,
     "metadata": {},
     "output_type": "execute_result"
    }
   ],
   "source": [
    "training_annotation = './file1.csv'\n",
    "training_annotation_file = pd.read_csv(training_annotation)\n",
    "print(\"records present for training : \",training_annotation_file.shape)\n",
    "training_annotation_file.head()"
   ]
  },
  {
   "cell_type": "code",
   "execution_count": null,
   "metadata": {},
   "outputs": [],
   "source": []
  }
 ],
 "metadata": {
  "kernelspec": {
   "display_name": "Python 3.10.6 64-bit",
   "language": "python",
   "name": "python3"
  },
  "language_info": {
   "codemirror_mode": {
    "name": "ipython",
    "version": 3
   },
   "file_extension": ".py",
   "mimetype": "text/x-python",
   "name": "python",
   "nbconvert_exporter": "python",
   "pygments_lexer": "ipython3",
   "version": "3.10.6"
  },
  "orig_nbformat": 4,
  "vscode": {
   "interpreter": {
    "hash": "916dbcbb3f70747c44a77c7bcd40155683ae19c65e1c03b4aa3499c5328201f1"
   }
  }
 },
 "nbformat": 4,
 "nbformat_minor": 2
}

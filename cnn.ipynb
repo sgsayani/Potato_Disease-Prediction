{
 "cells": [
  {
   "cell_type": "code",
   "execution_count": 2,
   "metadata": {},
   "outputs": [
    {
     "name": "stderr",
     "output_type": "stream",
     "text": [
      "2022-10-10 14:10:18.834559: I tensorflow/core/platform/cpu_feature_guard.cc:193] This TensorFlow binary is optimized with oneAPI Deep Neural Network Library (oneDNN) to use the following CPU instructions in performance-critical operations:  AVX2 FMA\n",
      "To enable them in other operations, rebuild TensorFlow with the appropriate compiler flags.\n",
      "2022-10-10 14:10:19.574452: W tensorflow/stream_executor/platform/default/dso_loader.cc:64] Could not load dynamic library 'libcudart.so.11.0'; dlerror: libcudart.so.11.0: cannot open shared object file: No such file or directory; LD_LIBRARY_PATH: /home/hrithik/.local/lib/python3.10/site-packages/cv2/../../lib64:\n",
      "2022-10-10 14:10:19.574519: I tensorflow/stream_executor/cuda/cudart_stub.cc:29] Ignore above cudart dlerror if you do not have a GPU set up on your machine.\n",
      "2022-10-10 14:10:19.703816: E tensorflow/stream_executor/cuda/cuda_blas.cc:2981] Unable to register cuBLAS factory: Attempting to register factory for plugin cuBLAS when one has already been registered\n",
      "2022-10-10 14:10:22.136110: W tensorflow/stream_executor/platform/default/dso_loader.cc:64] Could not load dynamic library 'libnvinfer.so.7'; dlerror: libnvinfer.so.7: cannot open shared object file: No such file or directory; LD_LIBRARY_PATH: /home/hrithik/.local/lib/python3.10/site-packages/cv2/../../lib64:\n",
      "2022-10-10 14:10:22.136442: W tensorflow/stream_executor/platform/default/dso_loader.cc:64] Could not load dynamic library 'libnvinfer_plugin.so.7'; dlerror: libnvinfer_plugin.so.7: cannot open shared object file: No such file or directory; LD_LIBRARY_PATH: /home/hrithik/.local/lib/python3.10/site-packages/cv2/../../lib64:\n",
      "2022-10-10 14:10:22.136474: W tensorflow/compiler/tf2tensorrt/utils/py_utils.cc:38] TF-TRT Warning: Cannot dlopen some TensorRT libraries. If you would like to use Nvidia GPU with TensorRT, please make sure the missing libraries mentioned above are installed properly.\n"
     ]
    }
   ],
   "source": [
    "##loading module\n",
    "import numpy as np\n",
    "import pandas as pd\n",
    "import cv2\n",
    "from keras.models import load_model\n",
    "import keras.backend as k1\n",
    "from sklearn.model_selection import train_test_split\n",
    "from skimage.io import imread,imshow\n",
    "from skimage.transform import resize\n",
    "from tensorflow.python.keras import Sequential\n",
    "from tensorflow.python.keras.layers import Conv2D,Dense,MaxPool2D,Flatten,MaxPooling2D,Dropout\n",
    "from tensorflow.python.keras.regularizers import l2\n",
    "from sklearn.preprocessing import LabelEncoder\n",
    "from sklearn.metrics import accuracy_score\n",
    "from glob import glob\n",
    "from tensorflow.python.keras.utils.np_utils import to_categorical\n",
    "import matplotlib.pyplot as plt"
   ]
  },
  {
   "cell_type": "code",
   "execution_count": 5,
   "metadata": {},
   "outputs": [
    {
     "name": "stdout",
     "output_type": "stream",
     "text": [
      "['late-blight', 'early-blight', 'backkleg', 'septoria', 'safe']\n",
      "1608\n"
     ]
    }
   ],
   "source": [
    "'''\n",
    "Extract features from images '''\n",
    "path=\"augmented-image/\"\n",
    "l=glob(path+\"*\")\n",
    "s=len(glob(path+\"*\"))\n",
    "extract=[]\n",
    "name_items=[]\n",
    "for i in l:\n",
    "    name_items.append(i[16:])\n",
    "print(name_items)\n",
    "\n",
    "flat_data_arr=[] #input array\n",
    "target_arr=[] #output array\n",
    "for j in name_items:\n",
    "    m=glob(\"./\"+path+j+\"/*\")\n",
    "    for h in m:\n",
    "        s=imread(h,as_gray=True)\n",
    "        s=resize(s,(50,50))\n",
    "        extract.append([np.array(s),j])\n",
    "print(len(extract))\n",
    "ex=extract        \n",
    "\n"
   ]
  },
  {
   "cell_type": "code",
   "execution_count": 6,
   "metadata": {},
   "outputs": [
    {
     "data": {
      "text/plain": [
       "<matplotlib.image.AxesImage at 0x7f9a9d2e1510>"
      ]
     },
     "execution_count": 6,
     "metadata": {},
     "output_type": "execute_result"
    },
    {
     "data": {
      "image/png": "[encoded data removed]",
      "text/plain": [
       "<Figure size 640x480 with 1 Axes>"
      ]
     },
     "metadata": {},
     "output_type": "display_data"
    }
   ],
   "source": [
    "plt.imshow(extract[100][0])"
   ]
  },
  {
   "cell_type": "code",
   "execution_count": 13,
   "metadata": {},
   "outputs": [
    {
     "name": "stdout",
     "output_type": "stream",
     "text": [
      "(1608, 50, 50, 1)\n"
     ]
    }
   ],
   "source": [
    "x=[]\n",
    "y=[]\n",
    "for features,class_value in extract:\n",
    "    x.append(features)\n",
    "    y.append(class_value)\n",
    "x=np.array(x)\n",
    "y=np.array(y)\n",
    "x=x.reshape(x.shape[0],50,50,1)\n",
    "print(x.shape)"
   ]
  },
  {
   "cell_type": "code",
   "execution_count": 14,
   "metadata": {},
   "outputs": [
    {
     "data": {
      "text/plain": [
       "array([[0., 0., 1., 0., 0.],\n",
       "       [0., 0., 1., 0., 0.],\n",
       "       [0., 0., 1., 0., 0.],\n",
       "       ...,\n",
       "       [0., 0., 0., 1., 0.],\n",
       "       [0., 0., 0., 1., 0.],\n",
       "       [0., 0., 0., 1., 0.]], dtype=float32)"
      ]
     },
     "execution_count": 14,
     "metadata": {},
     "output_type": "execute_result"
    }
   ],
   "source": [
    "lb=LabelEncoder()\n",
    "y=to_categorical(lb.fit_transform(y))\n",
    "y\n"
   ]
  },
  {
   "cell_type": "code",
   "execution_count": 23,
   "metadata": {},
   "outputs": [
    {
     "name": "stdout",
     "output_type": "stream",
     "text": [
      "(1608, 50, 50, 1) (1608, 5)\n"
     ]
    }
   ],
   "source": [
    "print(x.shape,y.shape)\n",
    "k1.clear_session()"
   ]
  },
  {
   "cell_type": "code",
   "execution_count": 16,
   "metadata": {},
   "outputs": [],
   "source": [
    "x_train,x_test,y_train,y_test=train_test_split(x,y,test_size=0.3,random_state=12345)"
   ]
  },
  {
   "cell_type": "code",
   "execution_count": 37,
   "metadata": {},
   "outputs": [
    {
     "name": "stdout",
     "output_type": "stream",
     "text": [
      "Model: \"sequential_1\"\n",
      "_________________________________________________________________\n",
      "Layer (type)                 Output Shape              Param #   \n",
      "=================================================================\n",
      "conv2d (Conv2D)              (None, 50, 50, 128)       1280      \n",
      "_________________________________________________________________\n",
      "max_pooling2d (MaxPooling2D) (None, 12, 12, 128)       0         \n",
      "_________________________________________________________________\n",
      "conv2d_1 (Conv2D)            (None, 12, 12, 64)        73792     \n",
      "_________________________________________________________________\n",
      "max_pooling2d_1 (MaxPooling2 (None, 3, 3, 64)          0         \n",
      "_________________________________________________________________\n",
      "flatten (Flatten)            (None, 576)               0         \n",
      "_________________________________________________________________\n",
      "dense_3 (Dense)              (None, 128)               73856     \n",
      "_________________________________________________________________\n",
      "dense_4 (Dense)              (None, 5)                 645       \n",
      "=================================================================\n",
      "Total params: 149,573\n",
      "Trainable params: 149,573\n",
      "Non-trainable params: 0\n",
      "_________________________________________________________________\n"
     ]
    }
   ],
   "source": [
    "model=Sequential()\n",
    "model.add(Conv2D(128,(3,3),padding=\"same\",activation=\"relu\",input_shape=(50,50,1)))\n",
    "model.add(MaxPooling2D(4,4))\n",
    "model.add(Conv2D(64,(3,3),padding=\"same\",activation=\"relu\"))\n",
    "model.add(MaxPooling2D(4,4))\n",
    "model.add(Flatten())\n",
    "model.add(Dense(128,activation=\"relu\"))\n",
    "model.add(Dense(5,activation=\"softmax\"))\n",
    "model.summary()"
   ]
  },
  {
   "cell_type": "code",
   "execution_count": null,
   "metadata": {},
   "outputs": [],
   "source": []
  },
  {
   "cell_type": "code",
   "execution_count": 25,
   "metadata": {},
   "outputs": [
    {
     "name": "stdout",
     "output_type": "stream",
     "text": [
      "Epoch 1/20\n",
      "9/9 [==============================] - 8s 836ms/step - loss: 1.5244 - accuracy: 0.2942 - val_loss: 1.4442 - val_accuracy: 0.3168\n",
      "Epoch 2/20\n",
      "9/9 [==============================] - 8s 944ms/step - loss: 1.4528 - accuracy: 0.3467 - val_loss: 1.3942 - val_accuracy: 0.3789\n",
      "Epoch 3/20\n",
      "9/9 [==============================] - 8s 915ms/step - loss: 1.3544 - accuracy: 0.4311 - val_loss: 1.2427 - val_accuracy: 0.4658\n",
      "Epoch 4/20\n",
      "9/9 [==============================] - 9s 952ms/step - loss: 1.2093 - accuracy: 0.4871 - val_loss: 1.0896 - val_accuracy: 0.4928\n",
      "Epoch 5/20\n",
      "9/9 [==============================] - 6s 630ms/step - loss: 1.0650 - accuracy: 0.5191 - val_loss: 0.9956 - val_accuracy: 0.5652\n",
      "Epoch 6/20\n",
      "9/9 [==============================] - 6s 676ms/step - loss: 0.9721 - accuracy: 0.5493 - val_loss: 0.8847 - val_accuracy: 0.6273\n",
      "Epoch 7/20\n",
      "9/9 [==============================] - 6s 630ms/step - loss: 0.8786 - accuracy: 0.5884 - val_loss: 0.8948 - val_accuracy: 0.6501\n",
      "Epoch 8/20\n",
      "9/9 [==============================] - 6s 621ms/step - loss: 0.8221 - accuracy: 0.6347 - val_loss: 0.7798 - val_accuracy: 0.6377\n",
      "Epoch 9/20\n",
      "9/9 [==============================] - 6s 635ms/step - loss: 0.7358 - accuracy: 0.6933 - val_loss: 0.6787 - val_accuracy: 0.7433\n",
      "Epoch 10/20\n",
      "9/9 [==============================] - 6s 649ms/step - loss: 0.6610 - accuracy: 0.7422 - val_loss: 0.6706 - val_accuracy: 0.6874\n",
      "Epoch 11/20\n",
      "9/9 [==============================] - 6s 631ms/step - loss: 0.5779 - accuracy: 0.7982 - val_loss: 0.5891 - val_accuracy: 0.7598\n",
      "Epoch 12/20\n",
      "9/9 [==============================] - 6s 632ms/step - loss: 0.5247 - accuracy: 0.8213 - val_loss: 0.5285 - val_accuracy: 0.8054\n",
      "Epoch 13/20\n",
      "9/9 [==============================] - 6s 642ms/step - loss: 0.4511 - accuracy: 0.8640 - val_loss: 0.4563 - val_accuracy: 0.8509\n",
      "Epoch 14/20\n",
      "9/9 [==============================] - 6s 625ms/step - loss: 0.4054 - accuracy: 0.8862 - val_loss: 0.4610 - val_accuracy: 0.8447\n",
      "Epoch 15/20\n",
      "9/9 [==============================] - 7s 794ms/step - loss: 0.3933 - accuracy: 0.8853 - val_loss: 0.4313 - val_accuracy: 0.8344\n",
      "Epoch 16/20\n",
      "9/9 [==============================] - 8s 915ms/step - loss: 0.3334 - accuracy: 0.8942 - val_loss: 0.3519 - val_accuracy: 0.8965\n",
      "Epoch 17/20\n",
      "9/9 [==============================] - 8s 935ms/step - loss: 0.3044 - accuracy: 0.9067 - val_loss: 0.3169 - val_accuracy: 0.8903\n",
      "Epoch 18/20\n",
      "9/9 [==============================] - 8s 932ms/step - loss: 0.2606 - accuracy: 0.9289 - val_loss: 0.3205 - val_accuracy: 0.8861\n",
      "Epoch 19/20\n",
      "9/9 [==============================] - 8s 945ms/step - loss: 0.2252 - accuracy: 0.9369 - val_loss: 0.3289 - val_accuracy: 0.8675\n",
      "Epoch 20/20\n",
      "9/9 [==============================] - 8s 891ms/step - loss: 0.2104 - accuracy: 0.9440 - val_loss: 0.2424 - val_accuracy: 0.9255\n"
     ]
    }
   ],
   "source": [
    "model.compile(loss=\"categorical_crossentropy\",optimizer=\"adam\",metrics=['accuracy'])\n",
    "\n",
    "history=model.fit(x_train,y_train,epochs=20,batch_size=128,verbose=1,validation_data=(x_test, y_test))"
   ]
  },
  {
   "cell_type": "code",
   "execution_count": 29,
   "metadata": {},
   "outputs": [
    {
     "ename": "TypeError",
     "evalue": "cannot pickle 'weakref.ReferenceType' object",
     "output_type": "error",
     "traceback": [
      "\u001b[0;31m---------------------------------------------------------------------------\u001b[0m",
      "\u001b[0;31mTypeError\u001b[0m                                 Traceback (most recent call last)",
      "Cell \u001b[0;32mIn [29], line 3\u001b[0m\n\u001b[1;32m      1\u001b[0m s\u001b[39m=\u001b[39m[\u001b[39m\"\u001b[39m\u001b[39mbackleg\u001b[39m\u001b[39m\"\u001b[39m,\u001b[39m\"\u001b[39m\u001b[39mearly-blight\u001b[39m\u001b[39m\"\u001b[39m,\u001b[39m\"\u001b[39m\u001b[39mlate-blight\u001b[39m\u001b[39m\"\u001b[39m,\u001b[39m\"\u001b[39m\u001b[39msafe\u001b[39m\u001b[39m\"\u001b[39m,\u001b[39m\"\u001b[39m\u001b[39mseptoria\u001b[39m\u001b[39m\"\u001b[39m]\n\u001b[1;32m      2\u001b[0m \u001b[39mimport\u001b[39;00m \u001b[39mpickle\u001b[39;00m\n\u001b[0;32m----> 3\u001b[0m pickle\u001b[39m.\u001b[39;49mdump(model,\u001b[39mopen\u001b[39;49m(\u001b[39m\"\u001b[39;49m\u001b[39mcnn.sav\u001b[39;49m\u001b[39m\"\u001b[39;49m,\u001b[39m\"\u001b[39;49m\u001b[39mwb\u001b[39;49m\u001b[39m\"\u001b[39;49m))\n",
      "\u001b[0;31mTypeError\u001b[0m: cannot pickle 'weakref.ReferenceType' object"
     ]
    }
   ],
   "source": [
    "s=[\"backleg\",\"early-blight\",\"late-blight\",\"safe\",\"septoria\"]\n"
   ]
  },
  {
   "cell_type": "code",
   "execution_count": 27,
   "metadata": {},
   "outputs": [
    {
     "name": "stdout",
     "output_type": "stream",
     "text": [
      "backleg\n"
     ]
    }
   ],
   "source": [
    "p=imread(\"index.jpeg\",as_gray=True)\n",
    "p=resize(p,(50,50))\n",
    "p=p.reshape(1,50,50,1)\n",
    "p=model.predict(p)\n",
    "print(s[np.argmax(p)])"
   ]
  },
  {
   "cell_type": "code",
   "execution_count": 52,
   "metadata": {},
   "outputs": [
    {
     "name": "stdout",
     "output_type": "stream",
     "text": [
      "Model: \"sequential\"\n",
      "_________________________________________________________________\n",
      "Layer (type)                 Output Shape              Param #   \n",
      "=================================================================\n",
      "dense (Dense)                (None, 50, 50, 100)       200       \n",
      "_________________________________________________________________\n",
      "dropout (Dropout)            (None, 50, 50, 100)       0         \n",
      "_________________________________________________________________\n",
      "dense_1 (Dense)              (None, 50, 50, 100)       10100     \n",
      "_________________________________________________________________\n",
      "dropout_1 (Dropout)          (None, 50, 50, 100)       0         \n",
      "_________________________________________________________________\n",
      "dense_2 (Dense)              (None, 50, 50, 100)       10100     \n",
      "_________________________________________________________________\n",
      "flatten (Flatten)            (None, 250000)            0         \n",
      "_________________________________________________________________\n",
      "dense_3 (Dense)              (None, 5)                 1250005   \n",
      "=================================================================\n",
      "Total params: 1,270,405\n",
      "Trainable params: 1,270,405\n",
      "Non-trainable params: 0\n",
      "_________________________________________________________________\n"
     ]
    }
   ],
   "source": [
    "k1.clear_session()\n",
    "##dnn\n",
    "dnn=Sequential()\n",
    "dnn.add(Dense(100,activation=\"relu\",input_shape=(50,50,1)))\n",
    "dnn.add(Dropout(0.1))\n",
    "dnn.add(Dense(100,activation=\"relu\"))\n",
    "dnn.add(Dropout(0.1))\n",
    "dnn.add(Dense(100,activation=\"relu\"))\n",
    "dnn.add(Flatten())\n",
    "dnn.add(Dense(5,activation=\"softmax\"))\n",
    "dnn.summary()\n",
    "dnn.compile(loss=\"categorical_crossentropy\",optimizer=\"adam\",metrics=['accuracy'])\n",
    "\n"
   ]
  },
  {
   "cell_type": "code",
   "execution_count": 53,
   "metadata": {},
   "outputs": [
    {
     "name": "stdout",
     "output_type": "stream",
     "text": [
      "Epoch 1/20\n",
      "9/9 [==============================] - 22s 2s/step - loss: 1.7019 - accuracy: 0.2027 - val_loss: 1.4730 - val_accuracy: 0.3602\n",
      "Epoch 2/20\n",
      "9/9 [==============================] - 23s 3s/step - loss: 1.3871 - accuracy: 0.4320 - val_loss: 1.2968 - val_accuracy: 0.5010\n",
      "Epoch 3/20\n",
      "9/9 [==============================] - 23s 3s/step - loss: 1.2260 - accuracy: 0.5333 - val_loss: 1.1075 - val_accuracy: 0.5342\n",
      "Epoch 4/20\n",
      "9/9 [==============================] - 20s 2s/step - loss: 1.0310 - accuracy: 0.5742 - val_loss: 1.1248 - val_accuracy: 0.5010\n",
      "Epoch 5/20\n",
      "9/9 [==============================] - 25s 3s/step - loss: 0.9697 - accuracy: 0.5973 - val_loss: 0.9558 - val_accuracy: 0.5901\n",
      "Epoch 6/20\n",
      "9/9 [==============================] - 20s 2s/step - loss: 0.8712 - accuracy: 0.6587 - val_loss: 0.9948 - val_accuracy: 0.5756\n",
      "Epoch 7/20\n",
      "9/9 [==============================] - 26s 3s/step - loss: 0.8209 - accuracy: 0.6711 - val_loss: 0.8944 - val_accuracy: 0.6273\n",
      "Epoch 8/20\n",
      "9/9 [==============================] - 21s 2s/step - loss: 0.7125 - accuracy: 0.7307 - val_loss: 0.8534 - val_accuracy: 0.6563\n",
      "Epoch 9/20\n",
      "9/9 [==============================] - 26s 3s/step - loss: 0.6717 - accuracy: 0.7458 - val_loss: 0.8304 - val_accuracy: 0.6563\n",
      "Epoch 10/20\n",
      "9/9 [==============================] - 23s 3s/step - loss: 0.5707 - accuracy: 0.7902 - val_loss: 0.8232 - val_accuracy: 0.6729\n",
      "Epoch 11/20\n",
      "9/9 [==============================] - 20s 2s/step - loss: 0.4884 - accuracy: 0.8320 - val_loss: 0.7758 - val_accuracy: 0.6894\n",
      "Epoch 12/20\n",
      "9/9 [==============================] - 23s 2s/step - loss: 0.4440 - accuracy: 0.8382 - val_loss: 0.7802 - val_accuracy: 0.7019\n",
      "Epoch 13/20\n",
      "9/9 [==============================] - 22s 3s/step - loss: 0.3994 - accuracy: 0.8560 - val_loss: 0.7341 - val_accuracy: 0.7060\n",
      "Epoch 14/20\n",
      "9/9 [==============================] - 24s 3s/step - loss: 0.3573 - accuracy: 0.8800 - val_loss: 0.7888 - val_accuracy: 0.7081\n",
      "Epoch 15/20\n",
      "9/9 [==============================] - 23s 3s/step - loss: 0.2984 - accuracy: 0.8960 - val_loss: 0.7991 - val_accuracy: 0.7019\n",
      "Epoch 16/20\n",
      "9/9 [==============================] - 27s 3s/step - loss: 0.2504 - accuracy: 0.9173 - val_loss: 0.8093 - val_accuracy: 0.7039\n",
      "Epoch 17/20\n",
      "9/9 [==============================] - 27s 3s/step - loss: 0.2267 - accuracy: 0.9271 - val_loss: 0.8745 - val_accuracy: 0.6770\n",
      "Epoch 18/20\n",
      "9/9 [==============================] - 21s 2s/step - loss: 0.1827 - accuracy: 0.9476 - val_loss: 0.8559 - val_accuracy: 0.7081\n",
      "Epoch 19/20\n",
      "9/9 [==============================] - 21s 2s/step - loss: 0.1654 - accuracy: 0.9511 - val_loss: 0.9031 - val_accuracy: 0.6874\n",
      "Epoch 20/20\n",
      "9/9 [==============================] - 24s 3s/step - loss: 0.1475 - accuracy: 0.9609 - val_loss: 0.9270 - val_accuracy: 0.7039\n"
     ]
    }
   ],
   "source": [
    "history1=dnn.fit(x_train,y_train,batch_size=128,epochs=20,verbose=1,validation_data=(x_test,y_test))"
   ]
  },
  {
   "cell_type": "code",
   "execution_count": 59,
   "metadata": {},
   "outputs": [
    {
     "name": "stdout",
     "output_type": "stream",
     "text": [
      "Model: \"sequential\"\n",
      "_________________________________________________________________\n",
      "Layer (type)                 Output Shape              Param #   \n",
      "=================================================================\n",
      "conv2d (Conv2D)              (None, 25, 25, 128)       1280      \n",
      "_________________________________________________________________\n",
      "max_pooling2d (MaxPooling2D) (None, 11, 11, 128)       0         \n",
      "_________________________________________________________________\n",
      "conv2d_1 (Conv2D)            (None, 11, 11, 64)        73792     \n",
      "_________________________________________________________________\n",
      "max_pooling2d_1 (MaxPooling2 (None, 4, 4, 64)          0         \n",
      "_________________________________________________________________\n",
      "flatten (Flatten)            (None, 1024)              0         \n",
      "_________________________________________________________________\n",
      "dense (Dense)                (None, 128)               131200    \n",
      "_________________________________________________________________\n",
      "dense_1 (Dense)              (None, 5)                 645       \n",
      "=================================================================\n",
      "Total params: 206,917\n",
      "Trainable params: 206,917\n",
      "Non-trainable params: 0\n",
      "_________________________________________________________________\n"
     ]
    }
   ],
   "source": [
    "##svm using keras-cnn\n",
    "k1.clear_session()\n",
    "svm=Sequential()\n",
    "svm.add(Conv2D(filters = 128, padding = \"same\",activation = \"relu\",kernel_size=3, strides = 2,input_shape=(50,50,1)))\n",
    "svm.add(MaxPool2D(pool_size=(4,4),strides = 2))\n",
    "\n",
    "svm.add(Conv2D(filters = 64, padding = \"same\",activation = \"relu\",kernel_size=3))\n",
    "svm.add(MaxPool2D(pool_size=(4,4),strides = 2))\n",
    "\n",
    "svm.add(Flatten())\n",
    "svm.add(Dense(128,activation=\"relu\"))\n",
    "\n",
    "#Output layer\n",
    "svm.add(Dense(5,kernel_regularizer=l2(0.01),activation = \"linear\"))\n",
    "svm.summary()"
   ]
  },
  {
   "cell_type": "code",
   "execution_count": 60,
   "metadata": {},
   "outputs": [
    {
     "name": "stdout",
     "output_type": "stream",
     "text": [
      "Epoch 1/20\n",
      "9/9 [==============================] - 4s 337ms/step - loss: 0.8059 - accuracy: 0.2667 - val_loss: 0.7239 - val_accuracy: 0.3209\n",
      "Epoch 2/20\n",
      "9/9 [==============================] - 3s 305ms/step - loss: 0.7038 - accuracy: 0.3244 - val_loss: 0.6643 - val_accuracy: 0.3996\n",
      "Epoch 3/20\n",
      "9/9 [==============================] - 3s 305ms/step - loss: 0.6523 - accuracy: 0.3733 - val_loss: 0.6168 - val_accuracy: 0.4182\n",
      "Epoch 4/20\n",
      "9/9 [==============================] - 3s 305ms/step - loss: 0.6065 - accuracy: 0.4187 - val_loss: 0.5651 - val_accuracy: 0.5280\n",
      "Epoch 5/20\n",
      "9/9 [==============================] - 3s 304ms/step - loss: 0.5710 - accuracy: 0.4951 - val_loss: 0.5271 - val_accuracy: 0.5921\n",
      "Epoch 6/20\n",
      "9/9 [==============================] - 4s 513ms/step - loss: 0.5181 - accuracy: 0.5582 - val_loss: 0.4892 - val_accuracy: 0.5735\n",
      "Epoch 7/20\n",
      "9/9 [==============================] - 3s 304ms/step - loss: 0.4731 - accuracy: 0.5964 - val_loss: 0.4651 - val_accuracy: 0.6004\n",
      "Epoch 8/20\n",
      "9/9 [==============================] - 3s 311ms/step - loss: 0.4324 - accuracy: 0.6240 - val_loss: 0.4054 - val_accuracy: 0.6687\n",
      "Epoch 9/20\n",
      "9/9 [==============================] - 3s 365ms/step - loss: 0.3844 - accuracy: 0.6791 - val_loss: 0.3693 - val_accuracy: 0.6853\n",
      "Epoch 10/20\n",
      "9/9 [==============================] - 3s 312ms/step - loss: 0.3535 - accuracy: 0.7182 - val_loss: 0.3645 - val_accuracy: 0.7826\n",
      "Epoch 11/20\n",
      "9/9 [==============================] - 3s 316ms/step - loss: 0.3253 - accuracy: 0.7947 - val_loss: 0.3500 - val_accuracy: 0.7619\n",
      "Epoch 12/20\n",
      "9/9 [==============================] - 3s 316ms/step - loss: 0.2999 - accuracy: 0.8240 - val_loss: 0.3087 - val_accuracy: 0.7578\n",
      "Epoch 13/20\n",
      "9/9 [==============================] - 3s 313ms/step - loss: 0.2732 - accuracy: 0.8178 - val_loss: 0.2824 - val_accuracy: 0.7992\n",
      "Epoch 14/20\n",
      "9/9 [==============================] - 3s 331ms/step - loss: 0.2462 - accuracy: 0.8613 - val_loss: 0.2884 - val_accuracy: 0.8178\n",
      "Epoch 15/20\n",
      "9/9 [==============================] - 3s 315ms/step - loss: 0.2315 - accuracy: 0.8702 - val_loss: 0.2493 - val_accuracy: 0.8489\n",
      "Epoch 16/20\n",
      "9/9 [==============================] - 3s 310ms/step - loss: 0.2299 - accuracy: 0.8711 - val_loss: 0.2860 - val_accuracy: 0.7723\n",
      "Epoch 17/20\n",
      "9/9 [==============================] - 3s 338ms/step - loss: 0.2234 - accuracy: 0.8631 - val_loss: 0.2506 - val_accuracy: 0.8571\n",
      "Epoch 18/20\n",
      "9/9 [==============================] - 3s 316ms/step - loss: 0.2018 - accuracy: 0.8996 - val_loss: 0.2307 - val_accuracy: 0.8675\n",
      "Epoch 19/20\n",
      "9/9 [==============================] - 3s 309ms/step - loss: 0.1831 - accuracy: 0.9156 - val_loss: 0.2124 - val_accuracy: 0.8944\n",
      "Epoch 20/20\n",
      "9/9 [==============================] - 3s 308ms/step - loss: 0.1711 - accuracy: 0.9369 - val_loss: 0.2026 - val_accuracy: 0.8903\n"
     ]
    },
    {
     "data": {
      "text/plain": [
       "<tensorflow.python.keras.callbacks.History at 0x7f9ab1632530>"
      ]
     },
     "execution_count": 60,
     "metadata": {},
     "output_type": "execute_result"
    }
   ],
   "source": [
    "svm.compile(optimizer=\"adam\",loss=\"squared_hinge\", metrics = ['accuracy'])\n",
    "svm.fit(x_train,y_train,batch_size=128,epochs=20,verbose=1,validation_data=(x_test,y_test))"
   ]
  },
  {
   "cell_type": "markdown",
   "metadata": {},
   "source": [
    "With 3channels"
   ]
  },
  {
   "cell_type": "code",
   "execution_count": 3,
   "metadata": {},
   "outputs": [
    {
     "name": "stdout",
     "output_type": "stream",
     "text": [
      "['late-blight', 'early-blight', 'backkleg', 'septoria', 'safe']\n",
      "1608\n"
     ]
    }
   ],
   "source": [
    "'''\n",
    "3channels\n",
    "Extract features from images '''\n",
    "path=\"augmented-image/\"\n",
    "l=glob(path+\"*\")\n",
    "s=len(glob(path+\"*\"))\n",
    "extract_color=[]\n",
    "name_items=[]\n",
    "for i in l:\n",
    "    name_items.append(i[16:])\n",
    "print(name_items)\n",
    "\n",
    "flat_data_arr=[] #input array\n",
    "target_arr=[] #output array\n",
    "for j in name_items:\n",
    "    m=glob(\"./\"+path+j+\"/*\")\n",
    "    for h in m:\n",
    "        #s=imread(h)\n",
    "        #s=resize(s,(200,200))\n",
    "        s = cv2.imread(h, cv2.IMREAD_COLOR)       \n",
    "        s = cv2.resize(s, (100,100))\n",
    "        s= cv2.cvtColor(s, cv2.COLOR_RGB2BGR)\n",
    "        extract_color.append([np.array(s),j])\n",
    "print(len(extract_color))\n",
    "ex=extract_color        \n",
    "\n"
   ]
  },
  {
   "cell_type": "code",
   "execution_count": 4,
   "metadata": {},
   "outputs": [
    {
     "name": "stdout",
     "output_type": "stream",
     "text": [
      "(1608, 100, 100, 3)\n"
     ]
    }
   ],
   "source": [
    "x1=[]\n",
    "y1=[]\n",
    "for features,class_value in extract_color:\n",
    "    x1.append(features)\n",
    "    y1.append(class_value)\n",
    "x1=np.array(x1)\n",
    "y1=np.array(y1)\n",
    "#x=x.reshape(x.shape[0],50,50,1)\n",
    "print(x1.shape)"
   ]
  },
  {
   "cell_type": "code",
   "execution_count": 5,
   "metadata": {},
   "outputs": [
    {
     "data": {
      "text/plain": [
       "array([[[[0.63137255, 0.76470588, 0.29411765],\n",
       "         [0.67058824, 0.78823529, 0.40784314],\n",
       "         [0.74117647, 0.85098039, 0.50980392],\n",
       "         ...,\n",
       "         [0.39215686, 0.01960784, 0.00392157],\n",
       "         [0.38823529, 0.01568627, 0.        ],\n",
       "         [0.38823529, 0.01568627, 0.        ]],\n",
       "\n",
       "        [[0.63529412, 0.76862745, 0.28627451],\n",
       "         [0.6627451 , 0.78431373, 0.38039216],\n",
       "         [0.72941176, 0.83921569, 0.49803922],\n",
       "         ...,\n",
       "         [0.40392157, 0.03137255, 0.01568627],\n",
       "         [0.38823529, 0.01568627, 0.        ],\n",
       "         [0.38039216, 0.00784314, 0.        ]],\n",
       "\n",
       "        [[0.62352941, 0.75686275, 0.28627451],\n",
       "         [0.65882353, 0.78431373, 0.36078431],\n",
       "         [0.71372549, 0.82745098, 0.4745098 ],\n",
       "         ...,\n",
       "         [0.38431373, 0.01176471, 0.        ],\n",
       "         [0.38823529, 0.01568627, 0.        ],\n",
       "         [0.38823529, 0.01568627, 0.        ]],\n",
       "\n",
       "        ...,\n",
       "\n",
       "        [[0.41960784, 0.54901961, 0.38039216],\n",
       "         [0.41960784, 0.54901961, 0.38039216],\n",
       "         [0.41176471, 0.54117647, 0.37254902],\n",
       "         ...,\n",
       "         [0.02352941, 0.03921569, 0.03529412],\n",
       "         [0.02352941, 0.03921569, 0.03529412],\n",
       "         [0.02352941, 0.03921569, 0.03529412]],\n",
       "\n",
       "        [[0.41176471, 0.54117647, 0.37254902],\n",
       "         [0.40784314, 0.5372549 , 0.36862745],\n",
       "         [0.4       , 0.52941176, 0.35294118],\n",
       "         ...,\n",
       "         [0.02352941, 0.03921569, 0.03529412],\n",
       "         [0.02352941, 0.03921569, 0.03529412],\n",
       "         [0.02352941, 0.03921569, 0.03529412]],\n",
       "\n",
       "        [[0.4       , 0.52941176, 0.36078431],\n",
       "         [0.4       , 0.52941176, 0.36078431],\n",
       "         [0.38823529, 0.51372549, 0.35294118],\n",
       "         ...,\n",
       "         [0.02352941, 0.03921569, 0.03529412],\n",
       "         [0.02352941, 0.03921569, 0.03529412],\n",
       "         [0.02352941, 0.03921569, 0.03529412]]],\n",
       "\n",
       "\n",
       "       [[[0.56470588, 0.7254902 , 0.58039216],\n",
       "         [0.55294118, 0.70588235, 0.58431373],\n",
       "         [0.56862745, 0.72941176, 0.57254902],\n",
       "         ...,\n",
       "         [0.16470588, 0.26666667, 0.16862745],\n",
       "         [0.22352941, 0.30980392, 0.22745098],\n",
       "         [0.21960784, 0.29411765, 0.21960784]],\n",
       "\n",
       "        [[0.54509804, 0.70196078, 0.55294118],\n",
       "         [0.55686275, 0.70980392, 0.60392157],\n",
       "         [0.57647059, 0.71372549, 0.59607843],\n",
       "         ...,\n",
       "         [0.24313725, 0.3372549 , 0.25490196],\n",
       "         [0.18823529, 0.2745098 , 0.20392157],\n",
       "         [0.16470588, 0.2627451 , 0.14509804]],\n",
       "\n",
       "        [[0.49411765, 0.65490196, 0.50196078],\n",
       "         [0.51764706, 0.67058824, 0.56470588],\n",
       "         [0.56470588, 0.70196078, 0.6       ],\n",
       "         ...,\n",
       "         [0.17254902, 0.24705882, 0.16470588],\n",
       "         [0.19215686, 0.27843137, 0.16470588],\n",
       "         [0.18823529, 0.29019608, 0.16470588]],\n",
       "\n",
       "        ...,\n",
       "\n",
       "        [[0.18823529, 0.29411765, 0.16470588],\n",
       "         [0.18039216, 0.28627451, 0.15686275],\n",
       "         [0.20392157, 0.30980392, 0.18039216],\n",
       "         ...,\n",
       "         [0.17254902, 0.2627451 , 0.14509804],\n",
       "         [0.16078431, 0.25882353, 0.13333333],\n",
       "         [0.12941176, 0.24705882, 0.11372549]],\n",
       "\n",
       "        [[0.18823529, 0.28627451, 0.16078431],\n",
       "         [0.21176471, 0.30980392, 0.18431373],\n",
       "         [0.21176471, 0.30980392, 0.19215686],\n",
       "         ...,\n",
       "         [0.15294118, 0.24313725, 0.13333333],\n",
       "         [0.18431373, 0.27843137, 0.15294118],\n",
       "         [0.14117647, 0.24705882, 0.11764706]],\n",
       "\n",
       "        [[0.20784314, 0.30588235, 0.18039216],\n",
       "         [0.20392157, 0.30196078, 0.17647059],\n",
       "         [0.21960784, 0.32156863, 0.2       ],\n",
       "         ...,\n",
       "         [0.17254902, 0.26666667, 0.13333333],\n",
       "         [0.18823529, 0.28235294, 0.15686275],\n",
       "         [0.15294118, 0.25882353, 0.12941176]]],\n",
       "\n",
       "\n",
       "       [[[0.4627451 , 0.48235294, 0.35686275],\n",
       "         [0.50196078, 0.5372549 , 0.45882353],\n",
       "         [0.48627451, 0.50588235, 0.38039216],\n",
       "         ...,\n",
       "         [0.19215686, 0.27058824, 0.17254902],\n",
       "         [0.16470588, 0.24313725, 0.1372549 ],\n",
       "         [0.20392157, 0.27843137, 0.17647059]],\n",
       "\n",
       "        [[0.44705882, 0.4627451 , 0.33333333],\n",
       "         [0.51764706, 0.5372549 , 0.44705882],\n",
       "         [0.5372549 , 0.55294118, 0.4627451 ],\n",
       "         ...,\n",
       "         [0.16470588, 0.24313725, 0.13333333],\n",
       "         [0.19607843, 0.28627451, 0.18431373],\n",
       "         [0.18431373, 0.29411765, 0.19607843]],\n",
       "\n",
       "        [[0.43921569, 0.43529412, 0.29019608],\n",
       "         [0.47843137, 0.49803922, 0.37254902],\n",
       "         [0.5254902 , 0.54117647, 0.47843137],\n",
       "         ...,\n",
       "         [0.20392157, 0.27843137, 0.17254902],\n",
       "         [0.18039216, 0.29411765, 0.2       ],\n",
       "         [0.17647059, 0.29411765, 0.18823529]],\n",
       "\n",
       "        ...,\n",
       "\n",
       "        [[0.12156863, 0.21568627, 0.11372549],\n",
       "         [0.1372549 , 0.23137255, 0.12941176],\n",
       "         [0.16470588, 0.27058824, 0.14901961],\n",
       "         ...,\n",
       "         [0.15294118, 0.24313725, 0.12941176],\n",
       "         [0.14509804, 0.23921569, 0.14117647],\n",
       "         [0.16078431, 0.25882353, 0.09803922]],\n",
       "\n",
       "        [[0.13333333, 0.22745098, 0.1254902 ],\n",
       "         [0.13333333, 0.22745098, 0.1254902 ],\n",
       "         [0.21568627, 0.31372549, 0.19607843],\n",
       "         ...,\n",
       "         [0.12941176, 0.22352941, 0.09803922],\n",
       "         [0.15686275, 0.25490196, 0.12941176],\n",
       "         [0.16078431, 0.25882353, 0.14117647]],\n",
       "\n",
       "        [[0.13333333, 0.23137255, 0.11372549],\n",
       "         [0.18431373, 0.28235294, 0.16470588],\n",
       "         [0.21568627, 0.31372549, 0.19607843],\n",
       "         ...,\n",
       "         [0.14117647, 0.21960784, 0.10196078],\n",
       "         [0.15294118, 0.25098039, 0.1254902 ],\n",
       "         [0.1372549 , 0.23529412, 0.12156863]]],\n",
       "\n",
       "\n",
       "       ...,\n",
       "\n",
       "\n",
       "       [[[0.07058824, 0.20392157, 0.01960784],\n",
       "         [0.14509804, 0.26666667, 0.03529412],\n",
       "         [0.12156863, 0.37647059, 0.02352941],\n",
       "         ...,\n",
       "         [0.21960784, 0.5254902 , 0.05882353],\n",
       "         [0.38039216, 0.65098039, 0.23137255],\n",
       "         [0.32156863, 0.62352941, 0.19607843]],\n",
       "\n",
       "        [[0.08235294, 0.21176471, 0.01960784],\n",
       "         [0.05098039, 0.16862745, 0.        ],\n",
       "         [0.18823529, 0.41176471, 0.00784314],\n",
       "         ...,\n",
       "         [0.28627451, 0.57254902, 0.14117647],\n",
       "         [0.32941176, 0.61176471, 0.19215686],\n",
       "         [0.32941176, 0.58039216, 0.14509804]],\n",
       "\n",
       "        [[0.07058824, 0.18039216, 0.02352941],\n",
       "         [0.0627451 , 0.2       , 0.00784314],\n",
       "         [0.20784314, 0.38823529, 0.0627451 ],\n",
       "         ...,\n",
       "         [0.33333333, 0.61176471, 0.19215686],\n",
       "         [0.31372549, 0.59215686, 0.14901961],\n",
       "         [0.47058824, 0.6745098 , 0.23921569]],\n",
       "\n",
       "        ...,\n",
       "\n",
       "        [[0.54509804, 0.77254902, 0.29019608],\n",
       "         [0.61568627, 0.78823529, 0.31764706],\n",
       "         [0.4745098 , 0.69411765, 0.3254902 ],\n",
       "         ...,\n",
       "         [0.05098039, 0.07058824, 0.01960784],\n",
       "         [0.35686275, 0.50980392, 0.16470588],\n",
       "         [0.21176471, 0.5254902 , 0.00784314]],\n",
       "\n",
       "        [[0.33333333, 0.59215686, 0.14509804],\n",
       "         [0.72941176, 0.88235294, 0.47843137],\n",
       "         [0.49019608, 0.69803922, 0.30980392],\n",
       "         ...,\n",
       "         [0.14117647, 0.29411765, 0.01176471],\n",
       "         [0.12941176, 0.2       , 0.03137255],\n",
       "         [0.23921569, 0.51764706, 0.00784314]],\n",
       "\n",
       "        [[0.57254902, 0.74509804, 0.4627451 ],\n",
       "         [0.53333333, 0.79607843, 0.22352941],\n",
       "         [0.47843137, 0.7372549 , 0.30588235],\n",
       "         ...,\n",
       "         [0.28235294, 0.4627451 , 0.06666667],\n",
       "         [0.04313725, 0.0627451 , 0.02352941],\n",
       "         [0.34901961, 0.52941176, 0.11764706]]],\n",
       "\n",
       "\n",
       "       [[[0.47843137, 0.6627451 , 0.25490196],\n",
       "         [0.51372549, 0.69019608, 0.27843137],\n",
       "         [0.52941176, 0.69411765, 0.30196078],\n",
       "         ...,\n",
       "         [0.58823529, 0.76862745, 0.34509804],\n",
       "         [0.56078431, 0.72156863, 0.32156863],\n",
       "         [0.63529412, 0.79607843, 0.38039216]],\n",
       "\n",
       "        [[0.50980392, 0.67058824, 0.30196078],\n",
       "         [0.52941176, 0.69803922, 0.30980392],\n",
       "         [0.54117647, 0.72941176, 0.30196078],\n",
       "         ...,\n",
       "         [0.59607843, 0.75686275, 0.35686275],\n",
       "         [0.63137255, 0.79215686, 0.39215686],\n",
       "         [0.64313725, 0.79215686, 0.39215686]],\n",
       "\n",
       "        [[0.48627451, 0.64705882, 0.27843137],\n",
       "         [0.52941176, 0.69411765, 0.30980392],\n",
       "         [0.51764706, 0.70196078, 0.30588235],\n",
       "         ...,\n",
       "         [0.54509804, 0.70980392, 0.30980392],\n",
       "         [0.65098039, 0.81568627, 0.39215686],\n",
       "         [0.64313725, 0.79215686, 0.39607843]],\n",
       "\n",
       "        ...,\n",
       "\n",
       "        [[0.5372549 , 0.70588235, 0.26666667],\n",
       "         [0.55294118, 0.74901961, 0.29411765],\n",
       "         [0.50980392, 0.70196078, 0.25098039],\n",
       "         ...,\n",
       "         [0.51372549, 0.70588235, 0.38431373],\n",
       "         [0.37647059, 0.57254902, 0.23137255],\n",
       "         [0.32156863, 0.45882353, 0.20784314]],\n",
       "\n",
       "        [[0.40784314, 0.6       , 0.14901961],\n",
       "         [0.47843137, 0.66666667, 0.22745098],\n",
       "         [0.61960784, 0.76862745, 0.38431373],\n",
       "         ...,\n",
       "         [0.49803922, 0.68627451, 0.34901961],\n",
       "         [0.55686275, 0.75294118, 0.41960784],\n",
       "         [0.35686275, 0.55294118, 0.21176471]],\n",
       "\n",
       "        [[0.55686275, 0.74901961, 0.29803922],\n",
       "         [0.50196078, 0.69411765, 0.24705882],\n",
       "         [0.10588235, 0.17254902, 0.03921569],\n",
       "         ...,\n",
       "         [0.44705882, 0.63921569, 0.29803922],\n",
       "         [0.52941176, 0.7254902 , 0.39607843],\n",
       "         [0.30588235, 0.50196078, 0.16078431]]],\n",
       "\n",
       "\n",
       "       [[[0.30980392, 0.30196078, 0.13333333],\n",
       "         [0.25490196, 0.23921569, 0.10980392],\n",
       "         [0.2       , 0.21176471, 0.10196078],\n",
       "         ...,\n",
       "         [0.34509804, 0.45098039, 0.21176471],\n",
       "         [0.18039216, 0.15294118, 0.08627451],\n",
       "         [0.06666667, 0.05882353, 0.00784314]],\n",
       "\n",
       "        [[0.45882353, 0.60392157, 0.24705882],\n",
       "         [0.24705882, 0.34901961, 0.07058824],\n",
       "         [0.19215686, 0.24313725, 0.05098039],\n",
       "         ...,\n",
       "         [0.17254902, 0.25882353, 0.02745098],\n",
       "         [0.18431373, 0.17647059, 0.12941176],\n",
       "         [0.15686275, 0.14901961, 0.09803922]],\n",
       "\n",
       "        [[0.35686275, 0.5254902 , 0.17647059],\n",
       "         [0.38823529, 0.54117647, 0.19215686],\n",
       "         [0.36862745, 0.5254902 , 0.16078431],\n",
       "         ...,\n",
       "         [0.23137255, 0.29019608, 0.09019608],\n",
       "         [0.12941176, 0.12156863, 0.09019608],\n",
       "         [0.21568627, 0.20784314, 0.15686275]],\n",
       "\n",
       "        ...,\n",
       "\n",
       "        [[0.56078431, 0.72156863, 0.31372549],\n",
       "         [0.55686275, 0.7254902 , 0.30588235],\n",
       "         [0.43529412, 0.61960784, 0.23137255],\n",
       "         ...,\n",
       "         [0.43529412, 0.63921569, 0.24313725],\n",
       "         [0.60392157, 0.78823529, 0.4       ],\n",
       "         [0.51764706, 0.70196078, 0.3254902 ]],\n",
       "\n",
       "        [[0.54901961, 0.70980392, 0.29411765],\n",
       "         [0.52156863, 0.69803922, 0.28627451],\n",
       "         [0.36862745, 0.55294118, 0.15294118],\n",
       "         ...,\n",
       "         [0.49411765, 0.67843137, 0.30196078],\n",
       "         [0.51764706, 0.70980392, 0.34117647],\n",
       "         [0.47843137, 0.65882353, 0.28235294]],\n",
       "\n",
       "        [[0.54509804, 0.70196078, 0.28627451],\n",
       "         [0.49411765, 0.67058824, 0.25490196],\n",
       "         [0.38039216, 0.56470588, 0.16470588],\n",
       "         ...,\n",
       "         [0.04705882, 0.0745098 , 0.03137255],\n",
       "         [0.30980392, 0.42745098, 0.14117647],\n",
       "         [0.36862745, 0.5372549 , 0.16862745]]]])"
      ]
     },
     "execution_count": 5,
     "metadata": {},
     "output_type": "execute_result"
    }
   ],
   "source": [
    "x1=x1/255.0\n",
    "x1"
   ]
  },
  {
   "cell_type": "code",
   "execution_count": 6,
   "metadata": {},
   "outputs": [
    {
     "data": {
      "text/plain": [
       "array([[0., 0., 1., 0., 0.],\n",
       "       [0., 0., 1., 0., 0.],\n",
       "       [0., 0., 1., 0., 0.],\n",
       "       ...,\n",
       "       [0., 0., 0., 1., 0.],\n",
       "       [0., 0., 0., 1., 0.],\n",
       "       [0., 0., 0., 1., 0.]], dtype=float32)"
      ]
     },
     "execution_count": 6,
     "metadata": {},
     "output_type": "execute_result"
    }
   ],
   "source": [
    "lb=LabelEncoder()\n",
    "y1=to_categorical(lb.fit_transform(y1))\n",
    "y1\n"
   ]
  },
  {
   "cell_type": "code",
   "execution_count": 7,
   "metadata": {},
   "outputs": [],
   "source": [
    "x_train1,x_test1,y_train1,y_test1=train_test_split(x1,y1,test_size=0.3,random_state=12345)"
   ]
  },
  {
   "cell_type": "code",
   "execution_count": 12,
   "metadata": {},
   "outputs": [],
   "source": [
    "k1.clear_session()"
   ]
  },
  {
   "cell_type": "code",
   "execution_count": 13,
   "metadata": {},
   "outputs": [
    {
     "name": "stdout",
     "output_type": "stream",
     "text": [
      "Model: \"sequential\"\n",
      "_________________________________________________________________\n",
      "Layer (type)                 Output Shape              Param #   \n",
      "=================================================================\n",
      "conv2d (Conv2D)              (None, 100, 100, 128)     3584      \n",
      "_________________________________________________________________\n",
      "max_pooling2d (MaxPooling2D) (None, 25, 25, 128)       0         \n",
      "_________________________________________________________________\n",
      "conv2d_1 (Conv2D)            (None, 25, 25, 64)        73792     \n",
      "_________________________________________________________________\n",
      "max_pooling2d_1 (MaxPooling2 (None, 6, 6, 64)          0         \n",
      "_________________________________________________________________\n",
      "flatten (Flatten)            (None, 2304)              0         \n",
      "_________________________________________________________________\n",
      "dense (Dense)                (None, 128)               295040    \n",
      "_________________________________________________________________\n",
      "dense_1 (Dense)              (None, 5)                 645       \n",
      "=================================================================\n",
      "Total params: 373,061\n",
      "Trainable params: 373,061\n",
      "Non-trainable params: 0\n",
      "_________________________________________________________________\n"
     ]
    }
   ],
   "source": [
    "model_cnn=Sequential()\n",
    "model_cnn.add(Conv2D(128,(3,3),padding=\"same\",activation=\"relu\",input_shape=(100,100,3)))\n",
    "model_cnn.add(MaxPooling2D(4,4))\n",
    "model_cnn.add(Conv2D(64,(3,3),padding=\"same\",activation=\"relu\"))\n",
    "model_cnn.add(MaxPooling2D(4,4))\n",
    "model_cnn.add(Flatten())\n",
    "model_cnn.add(Dense(128,activation=\"relu\"))\n",
    "model_cnn.add(Dense(5,activation=\"softmax\"))\n",
    "model_cnn.summary()"
   ]
  },
  {
   "cell_type": "code",
   "execution_count": 14,
   "metadata": {},
   "outputs": [
    {
     "name": "stdout",
     "output_type": "stream",
     "text": [
      "Epoch 1/20\n"
     ]
    },
    {
     "name": "stderr",
     "output_type": "stream",
     "text": [
      "2022-10-10 14:16:29.586725: W tensorflow/core/framework/cpu_allocator_impl.cc:82] Allocation of 655360000 exceeds 10% of free system memory.\n",
      "2022-10-10 14:16:30.871883: W tensorflow/core/framework/cpu_allocator_impl.cc:82] Allocation of 655360000 exceeds 10% of free system memory.\n"
     ]
    },
    {
     "name": "stdout",
     "output_type": "stream",
     "text": [
      "1/9 [==>...........................] - ETA: 27s - loss: 1.6704 - accuracy: 0.0312"
     ]
    },
    {
     "name": "stderr",
     "output_type": "stream",
     "text": [
      "2022-10-10 14:16:32.264962: W tensorflow/core/framework/cpu_allocator_impl.cc:82] Allocation of 655360000 exceeds 10% of free system memory.\n",
      "2022-10-10 14:16:33.455187: W tensorflow/core/framework/cpu_allocator_impl.cc:82] Allocation of 655360000 exceeds 10% of free system memory.\n"
     ]
    },
    {
     "name": "stdout",
     "output_type": "stream",
     "text": [
      "2/9 [=====>........................] - ETA: 18s - loss: 1.5663 - accuracy: 0.1445"
     ]
    },
    {
     "name": "stderr",
     "output_type": "stream",
     "text": [
      "2022-10-10 14:16:34.847104: W tensorflow/core/framework/cpu_allocator_impl.cc:82] Allocation of 655360000 exceeds 10% of free system memory.\n"
     ]
    },
    {
     "name": "stdout",
     "output_type": "stream",
     "text": [
      "9/9 [==============================] - 27s 3s/step - loss: 1.3714 - accuracy: 0.3218 - val_loss: 1.1668 - val_accuracy: 0.4037\n",
      "Epoch 2/20\n",
      "9/9 [==============================] - 27s 3s/step - loss: 0.9223 - accuracy: 0.6231 - val_loss: 0.6813 - val_accuracy: 0.7474\n",
      "Epoch 3/20\n",
      "9/9 [==============================] - 26s 3s/step - loss: 0.5517 - accuracy: 0.7662 - val_loss: 0.4505 - val_accuracy: 0.8095\n",
      "Epoch 4/20\n",
      "9/9 [==============================] - 27s 3s/step - loss: 0.3302 - accuracy: 0.8916 - val_loss: 0.2400 - val_accuracy: 0.9524\n",
      "Epoch 5/20\n",
      "9/9 [==============================] - 26s 3s/step - loss: 0.2006 - accuracy: 0.9369 - val_loss: 0.1518 - val_accuracy: 0.9648\n",
      "Epoch 6/20\n",
      "9/9 [==============================] - 27s 3s/step - loss: 0.1514 - accuracy: 0.9467 - val_loss: 0.1533 - val_accuracy: 0.9503\n",
      "Epoch 7/20\n",
      "9/9 [==============================] - 26s 3s/step - loss: 0.0907 - accuracy: 0.9822 - val_loss: 0.0677 - val_accuracy: 0.9917\n",
      "Epoch 8/20\n",
      "9/9 [==============================] - 26s 3s/step - loss: 0.0516 - accuracy: 0.9929 - val_loss: 0.0494 - val_accuracy: 0.9917\n",
      "Epoch 9/20\n",
      "9/9 [==============================] - 26s 3s/step - loss: 0.0447 - accuracy: 0.9911 - val_loss: 0.0562 - val_accuracy: 0.9917\n",
      "Epoch 10/20\n",
      "9/9 [==============================] - 26s 3s/step - loss: 0.0315 - accuracy: 0.9982 - val_loss: 0.0289 - val_accuracy: 0.9938\n",
      "Epoch 11/20\n",
      "9/9 [==============================] - 26s 3s/step - loss: 0.0204 - accuracy: 0.9991 - val_loss: 0.0235 - val_accuracy: 0.9938\n",
      "Epoch 12/20\n",
      "9/9 [==============================] - 27s 3s/step - loss: 0.0250 - accuracy: 0.9956 - val_loss: 0.0506 - val_accuracy: 0.9917\n",
      "Epoch 13/20\n",
      "9/9 [==============================] - 26s 3s/step - loss: 0.0219 - accuracy: 0.9947 - val_loss: 0.0334 - val_accuracy: 0.9876\n",
      "Epoch 14/20\n",
      "9/9 [==============================] - 26s 3s/step - loss: 0.0271 - accuracy: 0.9902 - val_loss: 0.0843 - val_accuracy: 0.9876\n",
      "Epoch 15/20\n",
      "9/9 [==============================] - 27s 3s/step - loss: 0.0456 - accuracy: 0.9849 - val_loss: 0.0748 - val_accuracy: 0.9793\n",
      "Epoch 16/20\n",
      "9/9 [==============================] - 26s 3s/step - loss: 0.5872 - accuracy: 0.8507 - val_loss: 0.6398 - val_accuracy: 0.8302\n",
      "Epoch 17/20\n",
      "9/9 [==============================] - 26s 3s/step - loss: 0.2652 - accuracy: 0.8969 - val_loss: 0.0821 - val_accuracy: 0.9793\n",
      "Epoch 18/20\n",
      "9/9 [==============================] - 26s 3s/step - loss: 0.0873 - accuracy: 0.9813 - val_loss: 0.0918 - val_accuracy: 0.9710\n",
      "Epoch 19/20\n",
      "9/9 [==============================] - 26s 3s/step - loss: 0.0550 - accuracy: 0.9902 - val_loss: 0.0490 - val_accuracy: 0.9938\n",
      "Epoch 20/20\n",
      "9/9 [==============================] - 26s 3s/step - loss: 0.0293 - accuracy: 1.0000 - val_loss: 0.0303 - val_accuracy: 0.9959\n"
     ]
    }
   ],
   "source": [
    "model_cnn.compile(loss=\"categorical_crossentropy\",optimizer=\"adam\",metrics=['accuracy'])\n",
    "\n",
    "history=model_cnn.fit(x_train1,y_train1,epochs=20,batch_size=128,verbose=1,validation_data=(x_test1, y_test1))"
   ]
  },
  {
   "cell_type": "markdown",
   "metadata": {},
   "source": [
    "SVM-CNN"
   ]
  },
  {
   "cell_type": "code",
   "execution_count": 24,
   "metadata": {},
   "outputs": [
    {
     "name": "stdout",
     "output_type": "stream",
     "text": [
      "Model: \"sequential\"\n",
      "_________________________________________________________________\n",
      "Layer (type)                 Output Shape              Param #   \n",
      "=================================================================\n",
      "conv2d (Conv2D)              (None, 50, 50, 128)       3584      \n",
      "_________________________________________________________________\n",
      "max_pooling2d (MaxPooling2D) (None, 24, 24, 128)       0         \n",
      "_________________________________________________________________\n",
      "conv2d_1 (Conv2D)            (None, 24, 24, 64)        73792     \n",
      "_________________________________________________________________\n",
      "max_pooling2d_1 (MaxPooling2 (None, 11, 11, 64)        0         \n",
      "_________________________________________________________________\n",
      "flatten (Flatten)            (None, 7744)              0         \n",
      "_________________________________________________________________\n",
      "dense (Dense)                (None, 128)               991360    \n",
      "_________________________________________________________________\n",
      "dense_1 (Dense)              (None, 5)                 645       \n",
      "=================================================================\n",
      "Total params: 1,069,381\n",
      "Trainable params: 1,069,381\n",
      "Non-trainable params: 0\n",
      "_________________________________________________________________\n"
     ]
    }
   ],
   "source": [
    "##svm using keras-cnn\n",
    "k1.clear_session()\n",
    "svm=Sequential()\n",
    "svm.add(Conv2D(filters = 128, padding = \"same\",activation = \"relu\",kernel_size=3, strides = 2,input_shape=(100,100,3)))\n",
    "svm.add(MaxPool2D(pool_size=(4,4),strides = 2))\n",
    "\n",
    "svm.add(Conv2D(filters = 64, padding = \"same\",activation = \"relu\",kernel_size=3))\n",
    "svm.add(MaxPool2D(pool_size=(4,4),strides = 2))\n",
    "\n",
    "svm.add(Flatten())\n",
    "svm.add(Dense(128,activation=\"relu\"))\n",
    "\n",
    "#Output layer\n",
    "svm.add(Dense(5,kernel_regularizer=l2(0.01),activation = \"linear\"))\n",
    "svm.summary()"
   ]
  },
  {
   "cell_type": "code",
   "execution_count": 26,
   "metadata": {},
   "outputs": [
    {
     "name": "stdout",
     "output_type": "stream",
     "text": [
      "Epoch 1/20\n",
      "9/9 [==============================] - 17s 2s/step - loss: 0.8241 - accuracy: 0.3218 - val_loss: 0.6307 - val_accuracy: 0.5217\n",
      "Epoch 2/20\n",
      "9/9 [==============================] - 16s 2s/step - loss: 0.5823 - accuracy: 0.5422 - val_loss: 0.4964 - val_accuracy: 0.7371\n",
      "Epoch 3/20\n",
      "9/9 [==============================] - 16s 2s/step - loss: 0.4195 - accuracy: 0.7511 - val_loss: 0.3502 - val_accuracy: 0.8406\n",
      "Epoch 4/20\n",
      "9/9 [==============================] - 16s 2s/step - loss: 0.2798 - accuracy: 0.8809 - val_loss: 0.2320 - val_accuracy: 0.8344\n",
      "Epoch 5/20\n",
      "9/9 [==============================] - 16s 2s/step - loss: 0.1891 - accuracy: 0.9458 - val_loss: 0.1604 - val_accuracy: 0.9855\n",
      "Epoch 6/20\n",
      "9/9 [==============================] - 17s 2s/step - loss: 0.1326 - accuracy: 0.9751 - val_loss: 0.1119 - val_accuracy: 0.9979\n",
      "Epoch 7/20\n",
      "9/9 [==============================] - 17s 2s/step - loss: 0.1035 - accuracy: 0.9867 - val_loss: 0.0936 - val_accuracy: 0.9855\n",
      "Epoch 8/20\n",
      "9/9 [==============================] - 16s 2s/step - loss: 0.0934 - accuracy: 0.9822 - val_loss: 0.0750 - val_accuracy: 0.9979\n",
      "Epoch 9/20\n",
      "9/9 [==============================] - 16s 2s/step - loss: 0.0715 - accuracy: 0.9982 - val_loss: 0.0665 - val_accuracy: 0.9959\n",
      "Epoch 10/20\n",
      "9/9 [==============================] - 15s 2s/step - loss: 0.0627 - accuracy: 0.9991 - val_loss: 0.0582 - val_accuracy: 1.0000\n",
      "Epoch 11/20\n",
      "9/9 [==============================] - 16s 2s/step - loss: 0.0554 - accuracy: 1.0000 - val_loss: 0.0544 - val_accuracy: 0.9979\n",
      "Epoch 12/20\n",
      "9/9 [==============================] - 18s 2s/step - loss: 0.0519 - accuracy: 1.0000 - val_loss: 0.0507 - val_accuracy: 1.0000\n",
      "Epoch 13/20\n",
      "9/9 [==============================] - 16s 2s/step - loss: 0.0475 - accuracy: 1.0000 - val_loss: 0.0476 - val_accuracy: 1.0000\n",
      "Epoch 14/20\n",
      "9/9 [==============================] - 20s 2s/step - loss: 0.0456 - accuracy: 1.0000 - val_loss: 0.0459 - val_accuracy: 0.9979\n",
      "Epoch 15/20\n",
      "9/9 [==============================] - 26s 3s/step - loss: 0.0431 - accuracy: 1.0000 - val_loss: 0.0456 - val_accuracy: 0.9979\n",
      "Epoch 16/20\n",
      "9/9 [==============================] - 19s 2s/step - loss: 0.0409 - accuracy: 1.0000 - val_loss: 0.0419 - val_accuracy: 0.9979\n",
      "Epoch 17/20\n",
      "9/9 [==============================] - 17s 2s/step - loss: 0.0385 - accuracy: 1.0000 - val_loss: 0.0403 - val_accuracy: 0.9979\n",
      "Epoch 18/20\n",
      "9/9 [==============================] - 18s 2s/step - loss: 0.0370 - accuracy: 1.0000 - val_loss: 0.0374 - val_accuracy: 1.0000\n",
      "Epoch 19/20\n",
      "9/9 [==============================] - 16s 2s/step - loss: 0.0351 - accuracy: 1.0000 - val_loss: 0.0352 - val_accuracy: 1.0000\n",
      "Epoch 20/20\n",
      "9/9 [==============================] - 16s 2s/step - loss: 0.0334 - accuracy: 1.0000 - val_loss: 0.0347 - val_accuracy: 1.0000\n"
     ]
    },
    {
     "data": {
      "text/plain": [
       "<tensorflow.python.keras.callbacks.History at 0x7fd4a6a71660>"
      ]
     },
     "execution_count": 26,
     "metadata": {},
     "output_type": "execute_result"
    }
   ],
   "source": [
    "svm.compile(optimizer=\"adam\",loss=\"squared_hinge\", metrics = ['accuracy'])\n",
    "svm.fit(x_train1,y_train1,batch_size=128,epochs=20,verbose=1,validation_data=(x_test1,y_test1))"
   ]
  },
  {
   "cell_type": "markdown",
   "metadata": {},
   "source": [
    "DNN"
   ]
  },
  {
   "cell_type": "code",
   "execution_count": 30,
   "metadata": {},
   "outputs": [
    {
     "name": "stdout",
     "output_type": "stream",
     "text": [
      "Model: \"sequential\"\n",
      "_________________________________________________________________\n",
      "Layer (type)                 Output Shape              Param #   \n",
      "=================================================================\n",
      "dense (Dense)                (None, 100, 100, 64)      256       \n",
      "_________________________________________________________________\n",
      "dropout (Dropout)            (None, 100, 100, 64)      0         \n",
      "_________________________________________________________________\n",
      "dense_1 (Dense)              (None, 100, 100, 32)      2080      \n",
      "_________________________________________________________________\n",
      "flatten (Flatten)            (None, 320000)            0         \n",
      "_________________________________________________________________\n",
      "dense_2 (Dense)              (None, 5)                 1600005   \n",
      "=================================================================\n",
      "Total params: 1,602,341\n",
      "Trainable params: 1,602,341\n",
      "Non-trainable params: 0\n",
      "_________________________________________________________________\n"
     ]
    }
   ],
   "source": [
    "k1.clear_session()\n",
    "##dnn\n",
    "dnn=Sequential()\n",
    "dnn.add(Dense(64,activation=\"relu\",input_shape=(100,100,3)))\n",
    "dnn.add(Dropout(0.1))\n",
    "dnn.add(Dense(32,activation=\"relu\"))\n",
    "\n",
    "dnn.add(Flatten())\n",
    "dnn.add(Dense(5,activation=\"softmax\"))\n",
    "dnn.summary()\n",
    "dnn.compile(loss=\"categorical_crossentropy\",optimizer=\"adam\",metrics=['accuracy'])\n",
    "\n"
   ]
  },
  {
   "cell_type": "code",
   "execution_count": 31,
   "metadata": {},
   "outputs": [
    {
     "name": "stdout",
     "output_type": "stream",
     "text": [
      "Epoch 1/10\n",
      "9/9 [==============================] - 23s 3s/step - loss: 7.8325 - accuracy: 0.2676 - val_loss: 3.0827 - val_accuracy: 0.3665\n",
      "Epoch 2/10\n",
      "9/9 [==============================] - 22s 2s/step - loss: 2.2408 - accuracy: 0.4258 - val_loss: 1.3475 - val_accuracy: 0.3416\n",
      "Epoch 3/10\n",
      "9/9 [==============================] - 23s 3s/step - loss: 0.9606 - accuracy: 0.6160 - val_loss: 1.0848 - val_accuracy: 0.5631\n",
      "Epoch 4/10\n",
      "9/9 [==============================] - 22s 2s/step - loss: 0.5744 - accuracy: 0.7467 - val_loss: 0.7314 - val_accuracy: 0.6190\n",
      "Epoch 5/10\n",
      "9/9 [==============================] - 22s 2s/step - loss: 0.3349 - accuracy: 0.8498 - val_loss: 0.3788 - val_accuracy: 0.8282\n",
      "Epoch 6/10\n",
      "9/9 [==============================] - 23s 3s/step - loss: 0.2182 - accuracy: 0.9289 - val_loss: 0.4196 - val_accuracy: 0.7805\n",
      "Epoch 7/10\n",
      "9/9 [==============================] - 22s 2s/step - loss: 0.1540 - accuracy: 0.9636 - val_loss: 0.4266 - val_accuracy: 0.7619\n",
      "Epoch 8/10\n",
      "9/9 [==============================] - 22s 2s/step - loss: 0.1228 - accuracy: 0.9662 - val_loss: 0.4181 - val_accuracy: 0.7785\n",
      "Epoch 9/10\n",
      "9/9 [==============================] - 22s 2s/step - loss: 0.0894 - accuracy: 0.9796 - val_loss: 0.3975 - val_accuracy: 0.7847\n",
      "Epoch 10/10\n",
      "9/9 [==============================] - 22s 2s/step - loss: 0.0673 - accuracy: 0.9893 - val_loss: 0.2615 - val_accuracy: 0.8654\n"
     ]
    }
   ],
   "source": [
    "history1=dnn.fit(x_train1,y_train1,batch_size=128,epochs=10,verbose=1,validation_data=(x_test1,y_test1))"
   ]
  },
  {
   "cell_type": "code",
   "execution_count": 15,
   "metadata": {},
   "outputs": [
    {
     "name": "stdout",
     "output_type": "stream",
     "text": [
      "Downloading data from https://storage.googleapis.com/tensorflow/keras-applications/vgg16/vgg16_weights_tf_dim_ordering_tf_kernels_notop.h5\n",
      "58889256/58889256 [==============================] - 6s 0us/step\n"
     ]
    }
   ],
   "source": [
    "##vgg16 and xgboost\n",
    "from keras.applications.vgg16 import VGG16\n",
    "VGG_model = VGG16(weights='imagenet', include_top=False, input_shape=(100,100,3))"
   ]
  }
 ],
 "metadata": {
  "kernelspec": {
   "display_name": "Python 3.10.6 64-bit",
   "language": "python",
   "name": "python3"
  },
  "language_info": {
   "codemirror_mode": {
    "name": "ipython",
    "version": 3
   },
   "file_extension": ".py",
   "mimetype": "text/x-python",
   "name": "python",
   "nbconvert_exporter": "python",
   "pygments_lexer": "ipython3",
   "version": "3.10.6"
  },
  "orig_nbformat": 4,
  "vscode": {
   "interpreter": {
    "hash": "916dbcbb3f70747c44a77c7bcd40155683ae19c65e1c03b4aa3499c5328201f1"
   }
  }
 },
 "nbformat": 4,
 "nbformat_minor": 2
}
